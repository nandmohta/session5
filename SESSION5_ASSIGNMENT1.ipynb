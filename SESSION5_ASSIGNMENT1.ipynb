{
 "cells": [
  {
   "cell_type": "code",
   "execution_count": 38,
   "metadata": {},
   "outputs": [],
   "source": [
    "# Function to divide two variables using try catch block\n",
    "def divide(a,b):\n",
    "    '''\n",
    "     This function tries to divide two variables a & b using try catch blocks\n",
    "     INPUT : a as Dividend, b as Divisor\n",
    "     OUTPUT : return quotient\n",
    " \n",
    "    '''\n",
    "    try:\n",
    "        x = a / b # Divide a by b\n",
    "        return x\n",
    "    except ZeroDivisionError as e:\n",
    "        print(f'There has been an exception while trying to divide {a} by {b}. \\nException Thrown is: \"{e}\"\"')\n",
    "    \n",
    "    "
   ]
  },
  {
   "cell_type": "code",
   "execution_count": 39,
   "metadata": {},
   "outputs": [
    {
     "name": "stdout",
     "output_type": "stream",
     "text": [
      "There has been an exception while trying to divide 5 by 0. \n",
      "Exception Thrown is: \"division by zero\"\"\n"
     ]
    }
   ],
   "source": [
    "divide(5,0)"
   ]
  },
  {
   "cell_type": "code",
   "execution_count": null,
   "metadata": {},
   "outputs": [],
   "source": []
  }
 ],
 "metadata": {
  "kernelspec": {
   "display_name": "Python 3",
   "language": "python",
   "name": "python3"
  },
  "language_info": {
   "codemirror_mode": {
    "name": "ipython",
    "version": 3
   },
   "file_extension": ".py",
   "mimetype": "text/x-python",
   "name": "python",
   "nbconvert_exporter": "python",
   "pygments_lexer": "ipython3",
   "version": "3.6.5"
  }
 },
 "nbformat": 4,
 "nbformat_minor": 2
}
