{
 "cells": [
  {
   "cell_type": "code",
   "execution_count": 20,
   "metadata": {},
   "outputs": [
    {
     "name": "stdout",
     "output_type": "stream",
     "text": [
      "Americans Play Baseball.\n",
      "Americans Play cricket.\n",
      "Americans watch Baseball.\n",
      "Americans watch cricket.\n",
      "Indians Play Baseball.\n",
      "Indians Play cricket.\n",
      "Indians watch Baseball.\n",
      "Indians watch cricket.\n"
     ]
    }
   ],
   "source": [
    "'''\n",
    "Program to generate sentences where subject is in ['Americans','Indians'] and Verb is in \n",
    "['Play','watch'] and the object is in ['Baseball','cricket'].\n",
    "Output should be like \n",
    "\n",
    "Americans Play Baseball.\n",
    "Americans Play cricket.\n",
    "Americans watch Baseball.\n",
    "Americans watch cricket.\n",
    "Indians Play Baseball.\n",
    "Indians Play cricket.\n",
    "Indians watch Baseball.\n",
    "Indians watch cricket.\n",
    "\n",
    "'''\n",
    "subjects = ['Americans','Indians']\n",
    "verbs = ['Play','watch']\n",
    "objects = ['Baseball','cricket']\n",
    "\n",
    "def gensentence(subject,verb,obj):\n",
    "    '''\n",
    "    This method returns the list  of generated sentences\n",
    "    INPUT : subject - Subjects list\n",
    "            verb - Verbs list to be used\n",
    "            obj - Object list\n",
    "    RETURN : List of sentences\n",
    "    '''\n",
    "    return [s+\" \"+v+\" \"+o+\".\" for s in subjects for v in verbs for o in objects]\n",
    "\n",
    "sentence_list = gensentence(subjects,verbs,objects)\n",
    "for sentence in sentence_list:\n",
    "    print(sentence)"
   ]
  },
  {
   "cell_type": "code",
   "execution_count": null,
   "metadata": {},
   "outputs": [],
   "source": []
  }
 ],
 "metadata": {
  "kernelspec": {
   "display_name": "Python 3",
   "language": "python",
   "name": "python3"
  },
  "language_info": {
   "codemirror_mode": {
    "name": "ipython",
    "version": 3
   },
   "file_extension": ".py",
   "mimetype": "text/x-python",
   "name": "python",
   "nbconvert_exporter": "python",
   "pygments_lexer": "ipython3",
   "version": "3.6.5"
  }
 },
 "nbformat": 4,
 "nbformat_minor": 2
}
